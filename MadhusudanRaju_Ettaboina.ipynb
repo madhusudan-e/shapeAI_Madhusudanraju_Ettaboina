{
  "nbformat": 4,
  "nbformat_minor": 0,
  "metadata": {
    "colab": {
      "name": "MadhusudanRaju_Ettaboina.ipynb",
      "provenance": []
    },
    "kernelspec": {
      "name": "python3",
      "display_name": "Python 3"
    },
    "language_info": {
      "name": "python"
    }
  },
  "cells": [
    {
      "cell_type": "code",
      "metadata": {
        "id": "AzMQXtYaa5z5"
      },
      "source": [
        "from keras.datasets import mnist\n",
        "data = mnist.load_data()\n"
      ],
      "execution_count": 41,
      "outputs": []
    },
    {
      "cell_type": "code",
      "metadata": {
        "id": "mwAJhV6Oblw9"
      },
      "source": [
        "((X_train, Y_train), (X_test, Y_test)) = data"
      ],
      "execution_count": 42,
      "outputs": []
    },
    {
      "cell_type": "code",
      "metadata": {
        "id": "oaFRyK_kceMj"
      },
      "source": [
        "X_train = X_train.reshape((X_train.shape[0], 28*28)).astype('float32')\n",
        "X_test = X_test.reshape((X_test.shape[0], 28*28)).astype('float32')\n"
      ],
      "execution_count": 43,
      "outputs": []
    },
    {
      "cell_type": "code",
      "metadata": {
        "id": "7JG1I_iGdcpK"
      },
      "source": [
        "X_train = X_train/255\n",
        "X_test = X_test/255\n"
      ],
      "execution_count": 44,
      "outputs": []
    },
    {
      "cell_type": "code",
      "metadata": {
        "colab": {
          "base_uri": "https://localhost:8080/"
        },
        "id": "FxKef_LtdtrD",
        "outputId": "a6dd5d53-d4bd-4e71-f19f-813c89082dc0"
      },
      "source": [
        "from keras.utils import np_utils\n",
        "print(Y_test.shape)\n",
        "\n",
        "Y_train = np_utils.to_categorical(Y_train)\n",
        "Y_test =  np_utils.to_categorical(Y_test)\n",
        "num_classes = Y_test.shape[1]\n",
        "\n",
        "print(Y_test.shape)\n"
      ],
      "execution_count": 45,
      "outputs": [
        {
          "output_type": "stream",
          "text": [
            "(10000,)\n",
            "(10000, 10)\n"
          ],
          "name": "stdout"
        }
      ]
    },
    {
      "cell_type": "code",
      "metadata": {
        "id": "yoEFt5K2m87R"
      },
      "source": [
        "from keras.models import Sequential\n",
        "from keras.layers import Dense\n",
        "model = Sequential ()\n",
        "model.add(Dense(32, input_dim = 28*28, activation ='relu'))\n",
        "model.add(Dense(64, activation ='relu'))\n",
        "model.add(Dense(10, activation ='softmax'))\n"
      ],
      "execution_count": 46,
      "outputs": []
    },
    {
      "cell_type": "code",
      "metadata": {
        "id": "ldbGK1u6r-y3"
      },
      "source": [
        "model.compile(loss='categorical_crossentropy', optimizer='adam', metrics=['accuracy'])"
      ],
      "execution_count": 47,
      "outputs": []
    },
    {
      "cell_type": "code",
      "metadata": {
        "colab": {
          "base_uri": "https://localhost:8080/"
        },
        "id": "ofBwfTMmtp8P",
        "outputId": "c14742aa-4fdb-471e-c83c-1b4a3887827f"
      },
      "source": [
        "model.summary()"
      ],
      "execution_count": 48,
      "outputs": [
        {
          "output_type": "stream",
          "text": [
            "Model: \"sequential_4\"\n",
            "_________________________________________________________________\n",
            "Layer (type)                 Output Shape              Param #   \n",
            "=================================================================\n",
            "dense_17 (Dense)             (None, 32)                25120     \n",
            "_________________________________________________________________\n",
            "dense_18 (Dense)             (None, 64)                2112      \n",
            "_________________________________________________________________\n",
            "dense_19 (Dense)             (None, 10)                650       \n",
            "=================================================================\n",
            "Total params: 27,882\n",
            "Trainable params: 27,882\n",
            "Non-trainable params: 0\n",
            "_________________________________________________________________\n"
          ],
          "name": "stdout"
        }
      ]
    },
    {
      "cell_type": "code",
      "metadata": {
        "colab": {
          "base_uri": "https://localhost:8080/"
        },
        "id": "ePe1Q5H3uS7u",
        "outputId": "ff405371-a51d-4457-99aa-f507c15f770e"
      },
      "source": [
        "model.fit(X_train, Y_train, epochs=10, batch_size=100)"
      ],
      "execution_count": 49,
      "outputs": [
        {
          "output_type": "stream",
          "text": [
            "Epoch 1/10\n",
            "600/600 [==============================] - 2s 2ms/step - loss: 0.7464 - accuracy: 0.7823\n",
            "Epoch 2/10\n",
            "600/600 [==============================] - 1s 2ms/step - loss: 0.1955 - accuracy: 0.9416\n",
            "Epoch 3/10\n",
            "600/600 [==============================] - 1s 2ms/step - loss: 0.1487 - accuracy: 0.9563\n",
            "Epoch 4/10\n",
            "600/600 [==============================] - 1s 2ms/step - loss: 0.1212 - accuracy: 0.9629\n",
            "Epoch 5/10\n",
            "600/600 [==============================] - 1s 2ms/step - loss: 0.1033 - accuracy: 0.9693\n",
            "Epoch 6/10\n",
            "600/600 [==============================] - 1s 2ms/step - loss: 0.0909 - accuracy: 0.9734\n",
            "Epoch 7/10\n",
            "600/600 [==============================] - 1s 2ms/step - loss: 0.0786 - accuracy: 0.9755\n",
            "Epoch 8/10\n",
            "600/600 [==============================] - 1s 2ms/step - loss: 0.0740 - accuracy: 0.9760\n",
            "Epoch 9/10\n",
            "600/600 [==============================] - 1s 2ms/step - loss: 0.0668 - accuracy: 0.9795\n",
            "Epoch 10/10\n",
            "600/600 [==============================] - 1s 2ms/step - loss: 0.0570 - accuracy: 0.9822\n"
          ],
          "name": "stdout"
        },
        {
          "output_type": "execute_result",
          "data": {
            "text/plain": [
              "<tensorflow.python.keras.callbacks.History at 0x7f61e9e87b10>"
            ]
          },
          "metadata": {
            "tags": []
          },
          "execution_count": 49
        }
      ]
    },
    {
      "cell_type": "code",
      "metadata": {
        "colab": {
          "base_uri": "https://localhost:8080/"
        },
        "id": "grEWQ-9Lu8Wd",
        "outputId": "84632f9d-ba4e-4e9e-94a4-1f6d19ffe1e8"
      },
      "source": [
        "scores=model.evaluate(X_test,Y_test)\n",
        "print(scores)"
      ],
      "execution_count": 50,
      "outputs": [
        {
          "output_type": "stream",
          "text": [
            "313/313 [==============================] - 1s 1ms/step - loss: 0.1004 - accuracy: 0.9704\n",
            "[0.10041553527116776, 0.9703999757766724]\n"
          ],
          "name": "stdout"
        }
      ]
    }
  ]
}